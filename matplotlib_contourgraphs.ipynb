{
 "cells": [
  {
   "cell_type": "markdown",
   "id": "colonial-power",
   "metadata": {},
   "source": [
    "# Contour plots using matplotlib"
   ]
  },
  {
   "cell_type": "code",
   "execution_count": 13,
   "id": "younger-phoenix",
   "metadata": {},
   "outputs": [],
   "source": [
    "import matplotlib.pyplot as plt\n",
    "import matplotlib as mpl\n",
    "import numpy as np\n",
    "import pandas as pd"
   ]
  },
  {
   "cell_type": "code",
   "execution_count": 6,
   "id": "martial-season",
   "metadata": {
    "scrolled": true
   },
   "outputs": [
    {
     "data": {
      "text/html": [
       "<div>\n",
       "<style scoped>\n",
       "    .dataframe tbody tr th:only-of-type {\n",
       "        vertical-align: middle;\n",
       "    }\n",
       "\n",
       "    .dataframe tbody tr th {\n",
       "        vertical-align: top;\n",
       "    }\n",
       "\n",
       "    .dataframe thead th {\n",
       "        text-align: right;\n",
       "    }\n",
       "</style>\n",
       "<table border=\"1\" class=\"dataframe\">\n",
       "  <thead>\n",
       "    <tr style=\"text-align: right;\">\n",
       "      <th></th>\n",
       "      <th>0</th>\n",
       "      <th>1</th>\n",
       "      <th>2</th>\n",
       "      <th>3</th>\n",
       "      <th>4</th>\n",
       "      <th>5</th>\n",
       "      <th>6</th>\n",
       "      <th>7</th>\n",
       "      <th>8</th>\n",
       "      <th>9</th>\n",
       "      <th>...</th>\n",
       "      <th>32</th>\n",
       "      <th>33</th>\n",
       "      <th>34</th>\n",
       "      <th>35</th>\n",
       "      <th>36</th>\n",
       "      <th>37</th>\n",
       "      <th>38</th>\n",
       "      <th>39</th>\n",
       "      <th>40</th>\n",
       "      <th>41</th>\n",
       "    </tr>\n",
       "  </thead>\n",
       "  <tbody>\n",
       "    <tr>\n",
       "      <th>0</th>\n",
       "      <td>0.0</td>\n",
       "      <td>-20.000000</td>\n",
       "      <td>-19.000000</td>\n",
       "      <td>-18.000000</td>\n",
       "      <td>-17.000000</td>\n",
       "      <td>-16.000000</td>\n",
       "      <td>-15.000000</td>\n",
       "      <td>-14.000000</td>\n",
       "      <td>-13.000000</td>\n",
       "      <td>-12.000000</td>\n",
       "      <td>...</td>\n",
       "      <td>11.000000</td>\n",
       "      <td>12.000000</td>\n",
       "      <td>13.000000</td>\n",
       "      <td>14.000000</td>\n",
       "      <td>15.000000</td>\n",
       "      <td>16.000000</td>\n",
       "      <td>17.000000</td>\n",
       "      <td>18.000000</td>\n",
       "      <td>19.000000</td>\n",
       "      <td>20.000000</td>\n",
       "    </tr>\n",
       "    <tr>\n",
       "      <th>1</th>\n",
       "      <td>-20.0</td>\n",
       "      <td>0.000353</td>\n",
       "      <td>0.000410</td>\n",
       "      <td>0.000472</td>\n",
       "      <td>0.000538</td>\n",
       "      <td>0.000606</td>\n",
       "      <td>0.000675</td>\n",
       "      <td>0.000742</td>\n",
       "      <td>0.000805</td>\n",
       "      <td>0.000861</td>\n",
       "      <td>...</td>\n",
       "      <td>-0.000905</td>\n",
       "      <td>-0.000861</td>\n",
       "      <td>-0.000805</td>\n",
       "      <td>-0.000742</td>\n",
       "      <td>-0.000675</td>\n",
       "      <td>-0.000606</td>\n",
       "      <td>-0.000538</td>\n",
       "      <td>-0.000472</td>\n",
       "      <td>-0.000410</td>\n",
       "      <td>-0.000353</td>\n",
       "    </tr>\n",
       "    <tr>\n",
       "      <th>2</th>\n",
       "      <td>-19.0</td>\n",
       "      <td>0.000432</td>\n",
       "      <td>0.000503</td>\n",
       "      <td>0.000582</td>\n",
       "      <td>0.000665</td>\n",
       "      <td>0.000753</td>\n",
       "      <td>0.000842</td>\n",
       "      <td>0.000930</td>\n",
       "      <td>0.001013</td>\n",
       "      <td>0.001087</td>\n",
       "      <td>...</td>\n",
       "      <td>-0.001147</td>\n",
       "      <td>-0.001087</td>\n",
       "      <td>-0.001013</td>\n",
       "      <td>-0.000930</td>\n",
       "      <td>-0.000842</td>\n",
       "      <td>-0.000753</td>\n",
       "      <td>-0.000665</td>\n",
       "      <td>-0.000582</td>\n",
       "      <td>-0.000503</td>\n",
       "      <td>-0.000432</td>\n",
       "    </tr>\n",
       "    <tr>\n",
       "      <th>3</th>\n",
       "      <td>-18.0</td>\n",
       "      <td>0.000524</td>\n",
       "      <td>0.000614</td>\n",
       "      <td>0.000712</td>\n",
       "      <td>0.000818</td>\n",
       "      <td>0.000930</td>\n",
       "      <td>0.001045</td>\n",
       "      <td>0.001158</td>\n",
       "      <td>0.001267</td>\n",
       "      <td>0.001364</td>\n",
       "      <td>...</td>\n",
       "      <td>-0.001445</td>\n",
       "      <td>-0.001364</td>\n",
       "      <td>-0.001267</td>\n",
       "      <td>-0.001158</td>\n",
       "      <td>-0.001045</td>\n",
       "      <td>-0.000930</td>\n",
       "      <td>-0.000818</td>\n",
       "      <td>-0.000712</td>\n",
       "      <td>-0.000614</td>\n",
       "      <td>-0.000524</td>\n",
       "    </tr>\n",
       "    <tr>\n",
       "      <th>4</th>\n",
       "      <td>-17.0</td>\n",
       "      <td>0.000632</td>\n",
       "      <td>0.000744</td>\n",
       "      <td>0.000866</td>\n",
       "      <td>0.001000</td>\n",
       "      <td>0.001141</td>\n",
       "      <td>0.001287</td>\n",
       "      <td>0.001433</td>\n",
       "      <td>0.001573</td>\n",
       "      <td>0.001701</td>\n",
       "      <td>...</td>\n",
       "      <td>-0.001809</td>\n",
       "      <td>-0.001701</td>\n",
       "      <td>-0.001573</td>\n",
       "      <td>-0.001433</td>\n",
       "      <td>-0.001287</td>\n",
       "      <td>-0.001141</td>\n",
       "      <td>-0.001000</td>\n",
       "      <td>-0.000866</td>\n",
       "      <td>-0.000744</td>\n",
       "      <td>-0.000632</td>\n",
       "    </tr>\n",
       "  </tbody>\n",
       "</table>\n",
       "<p>5 rows × 42 columns</p>\n",
       "</div>"
      ],
      "text/plain": [
       "     0          1          2          3          4          5          6   \\\n",
       "0   0.0 -20.000000 -19.000000 -18.000000 -17.000000 -16.000000 -15.000000   \n",
       "1 -20.0   0.000353   0.000410   0.000472   0.000538   0.000606   0.000675   \n",
       "2 -19.0   0.000432   0.000503   0.000582   0.000665   0.000753   0.000842   \n",
       "3 -18.0   0.000524   0.000614   0.000712   0.000818   0.000930   0.001045   \n",
       "4 -17.0   0.000632   0.000744   0.000866   0.001000   0.001141   0.001287   \n",
       "\n",
       "          7          8          9   ...         32         33         34  \\\n",
       "0 -14.000000 -13.000000 -12.000000  ...  11.000000  12.000000  13.000000   \n",
       "1   0.000742   0.000805   0.000861  ...  -0.000905  -0.000861  -0.000805   \n",
       "2   0.000930   0.001013   0.001087  ...  -0.001147  -0.001087  -0.001013   \n",
       "3   0.001158   0.001267   0.001364  ...  -0.001445  -0.001364  -0.001267   \n",
       "4   0.001433   0.001573   0.001701  ...  -0.001809  -0.001701  -0.001573   \n",
       "\n",
       "          35         36         37         38         39         40         41  \n",
       "0  14.000000  15.000000  16.000000  17.000000  18.000000  19.000000  20.000000  \n",
       "1  -0.000742  -0.000675  -0.000606  -0.000538  -0.000472  -0.000410  -0.000353  \n",
       "2  -0.000930  -0.000842  -0.000753  -0.000665  -0.000582  -0.000503  -0.000432  \n",
       "3  -0.001158  -0.001045  -0.000930  -0.000818  -0.000712  -0.000614  -0.000524  \n",
       "4  -0.001433  -0.001287  -0.001141  -0.001000  -0.000866  -0.000744  -0.000632  \n",
       "\n",
       "[5 rows x 42 columns]"
      ]
     },
     "execution_count": 6,
     "metadata": {},
     "output_type": "execute_result"
    }
   ],
   "source": [
    "px_orbital = pd.read_csv(\"px_2D.csv\", header = None)\n",
    "px_orbital.head()"
   ]
  },
  {
   "cell_type": "code",
   "execution_count": 7,
   "id": "standard-vietnamese",
   "metadata": {
    "scrolled": true
   },
   "outputs": [
    {
     "data": {
      "text/html": [
       "<div>\n",
       "<style scoped>\n",
       "    .dataframe tbody tr th:only-of-type {\n",
       "        vertical-align: middle;\n",
       "    }\n",
       "\n",
       "    .dataframe tbody tr th {\n",
       "        vertical-align: top;\n",
       "    }\n",
       "\n",
       "    .dataframe thead th {\n",
       "        text-align: right;\n",
       "    }\n",
       "</style>\n",
       "<table border=\"1\" class=\"dataframe\">\n",
       "  <thead>\n",
       "    <tr style=\"text-align: right;\">\n",
       "      <th></th>\n",
       "      <th>1</th>\n",
       "      <th>2</th>\n",
       "      <th>3</th>\n",
       "      <th>4</th>\n",
       "      <th>5</th>\n",
       "      <th>6</th>\n",
       "      <th>7</th>\n",
       "      <th>8</th>\n",
       "      <th>9</th>\n",
       "      <th>10</th>\n",
       "      <th>...</th>\n",
       "      <th>32</th>\n",
       "      <th>33</th>\n",
       "      <th>34</th>\n",
       "      <th>35</th>\n",
       "      <th>36</th>\n",
       "      <th>37</th>\n",
       "      <th>38</th>\n",
       "      <th>39</th>\n",
       "      <th>40</th>\n",
       "      <th>41</th>\n",
       "    </tr>\n",
       "  </thead>\n",
       "  <tbody>\n",
       "    <tr>\n",
       "      <th>1</th>\n",
       "      <td>0.000353</td>\n",
       "      <td>0.000410</td>\n",
       "      <td>0.000472</td>\n",
       "      <td>0.000538</td>\n",
       "      <td>0.000606</td>\n",
       "      <td>0.000675</td>\n",
       "      <td>0.000742</td>\n",
       "      <td>0.000805</td>\n",
       "      <td>0.000861</td>\n",
       "      <td>0.000905</td>\n",
       "      <td>...</td>\n",
       "      <td>-0.000905</td>\n",
       "      <td>-0.000861</td>\n",
       "      <td>-0.000805</td>\n",
       "      <td>-0.000742</td>\n",
       "      <td>-0.000675</td>\n",
       "      <td>-0.000606</td>\n",
       "      <td>-0.000538</td>\n",
       "      <td>-0.000472</td>\n",
       "      <td>-0.000410</td>\n",
       "      <td>-0.000353</td>\n",
       "    </tr>\n",
       "    <tr>\n",
       "      <th>2</th>\n",
       "      <td>0.000432</td>\n",
       "      <td>0.000503</td>\n",
       "      <td>0.000582</td>\n",
       "      <td>0.000665</td>\n",
       "      <td>0.000753</td>\n",
       "      <td>0.000842</td>\n",
       "      <td>0.000930</td>\n",
       "      <td>0.001013</td>\n",
       "      <td>0.001087</td>\n",
       "      <td>0.001147</td>\n",
       "      <td>...</td>\n",
       "      <td>-0.001147</td>\n",
       "      <td>-0.001087</td>\n",
       "      <td>-0.001013</td>\n",
       "      <td>-0.000930</td>\n",
       "      <td>-0.000842</td>\n",
       "      <td>-0.000753</td>\n",
       "      <td>-0.000665</td>\n",
       "      <td>-0.000582</td>\n",
       "      <td>-0.000503</td>\n",
       "      <td>-0.000432</td>\n",
       "    </tr>\n",
       "    <tr>\n",
       "      <th>3</th>\n",
       "      <td>0.000524</td>\n",
       "      <td>0.000614</td>\n",
       "      <td>0.000712</td>\n",
       "      <td>0.000818</td>\n",
       "      <td>0.000930</td>\n",
       "      <td>0.001045</td>\n",
       "      <td>0.001158</td>\n",
       "      <td>0.001267</td>\n",
       "      <td>0.001364</td>\n",
       "      <td>0.001445</td>\n",
       "      <td>...</td>\n",
       "      <td>-0.001445</td>\n",
       "      <td>-0.001364</td>\n",
       "      <td>-0.001267</td>\n",
       "      <td>-0.001158</td>\n",
       "      <td>-0.001045</td>\n",
       "      <td>-0.000930</td>\n",
       "      <td>-0.000818</td>\n",
       "      <td>-0.000712</td>\n",
       "      <td>-0.000614</td>\n",
       "      <td>-0.000524</td>\n",
       "    </tr>\n",
       "    <tr>\n",
       "      <th>4</th>\n",
       "      <td>0.000632</td>\n",
       "      <td>0.000744</td>\n",
       "      <td>0.000866</td>\n",
       "      <td>0.001000</td>\n",
       "      <td>0.001141</td>\n",
       "      <td>0.001287</td>\n",
       "      <td>0.001433</td>\n",
       "      <td>0.001573</td>\n",
       "      <td>0.001701</td>\n",
       "      <td>0.001809</td>\n",
       "      <td>...</td>\n",
       "      <td>-0.001809</td>\n",
       "      <td>-0.001701</td>\n",
       "      <td>-0.001573</td>\n",
       "      <td>-0.001433</td>\n",
       "      <td>-0.001287</td>\n",
       "      <td>-0.001141</td>\n",
       "      <td>-0.001000</td>\n",
       "      <td>-0.000866</td>\n",
       "      <td>-0.000744</td>\n",
       "      <td>-0.000632</td>\n",
       "    </tr>\n",
       "    <tr>\n",
       "      <th>5</th>\n",
       "      <td>0.000757</td>\n",
       "      <td>0.000894</td>\n",
       "      <td>0.001046</td>\n",
       "      <td>0.001212</td>\n",
       "      <td>0.001389</td>\n",
       "      <td>0.001574</td>\n",
       "      <td>0.001760</td>\n",
       "      <td>0.001940</td>\n",
       "      <td>0.002106</td>\n",
       "      <td>0.002247</td>\n",
       "      <td>...</td>\n",
       "      <td>-0.002247</td>\n",
       "      <td>-0.002106</td>\n",
       "      <td>-0.001940</td>\n",
       "      <td>-0.001760</td>\n",
       "      <td>-0.001574</td>\n",
       "      <td>-0.001389</td>\n",
       "      <td>-0.001212</td>\n",
       "      <td>-0.001046</td>\n",
       "      <td>-0.000894</td>\n",
       "      <td>-0.000757</td>\n",
       "    </tr>\n",
       "  </tbody>\n",
       "</table>\n",
       "<p>5 rows × 41 columns</p>\n",
       "</div>"
      ],
      "text/plain": [
       "         1         2         3         4         5         6         7   \\\n",
       "1  0.000353  0.000410  0.000472  0.000538  0.000606  0.000675  0.000742   \n",
       "2  0.000432  0.000503  0.000582  0.000665  0.000753  0.000842  0.000930   \n",
       "3  0.000524  0.000614  0.000712  0.000818  0.000930  0.001045  0.001158   \n",
       "4  0.000632  0.000744  0.000866  0.001000  0.001141  0.001287  0.001433   \n",
       "5  0.000757  0.000894  0.001046  0.001212  0.001389  0.001574  0.001760   \n",
       "\n",
       "         8         9         10  ...        32        33        34        35  \\\n",
       "1  0.000805  0.000861  0.000905  ... -0.000905 -0.000861 -0.000805 -0.000742   \n",
       "2  0.001013  0.001087  0.001147  ... -0.001147 -0.001087 -0.001013 -0.000930   \n",
       "3  0.001267  0.001364  0.001445  ... -0.001445 -0.001364 -0.001267 -0.001158   \n",
       "4  0.001573  0.001701  0.001809  ... -0.001809 -0.001701 -0.001573 -0.001433   \n",
       "5  0.001940  0.002106  0.002247  ... -0.002247 -0.002106 -0.001940 -0.001760   \n",
       "\n",
       "         36        37        38        39        40        41  \n",
       "1 -0.000675 -0.000606 -0.000538 -0.000472 -0.000410 -0.000353  \n",
       "2 -0.000842 -0.000753 -0.000665 -0.000582 -0.000503 -0.000432  \n",
       "3 -0.001045 -0.000930 -0.000818 -0.000712 -0.000614 -0.000524  \n",
       "4 -0.001287 -0.001141 -0.001000 -0.000866 -0.000744 -0.000632  \n",
       "5 -0.001574 -0.001389 -0.001212 -0.001046 -0.000894 -0.000757  \n",
       "\n",
       "[5 rows x 41 columns]"
      ]
     },
     "execution_count": 7,
     "metadata": {},
     "output_type": "execute_result"
    }
   ],
   "source": [
    "# Slice data: don't want first column of dataframe\n",
    "\n",
    "x = px_orbital.iloc[0, 1:]\n",
    "y = px_orbital.iloc[1:, 0]\n",
    "px_values = px_orbital.iloc[1:, 1:]\n",
    "\n",
    "px_values.head()"
   ]
  },
  {
   "cell_type": "code",
   "execution_count": 9,
   "id": "enormous-prayer",
   "metadata": {
    "scrolled": true
   },
   "outputs": [
    {
     "data": {
      "image/png": "[encoded data removed]",
      "text/plain": [
       "<Figure size 432x288 with 1 Axes>"
      ]
     },
     "metadata": {
      "needs_background": "light"
     },
     "output_type": "display_data"
    }
   ],
   "source": [
    "mpl.rcParams['font.size'] = 14\n",
    "mpl.rcParams['legend.fontsize'] = 12\n",
    "\n",
    "fig, ax = plt.subplots()\n",
    "ax.contour(x, y, px_values)\n",
    "ax.set_aspect('equal') # Makes it square"
   ]
  },
  {
   "cell_type": "code",
   "execution_count": 17,
   "id": "annoying-wagon",
   "metadata": {
    "scrolled": true
   },
   "outputs": [
    {
     "data": {
      "text/plain": [
       "<matplotlib.colorbar.Colorbar at 0x128a42e0>"
      ]
     },
     "execution_count": 17,
     "metadata": {},
     "output_type": "execute_result"
    },
    {
     "data": {
      "image/png": "[encoded data removed]",
      "text/plain": [
       "<Figure size 432x288 with 2 Axes>"
      ]
     },
     "metadata": {
      "needs_background": "light"
     },
     "output_type": "display_data"
    }
   ],
   "source": [
    "mpl.rcParams['font.size'] = 14\n",
    "mpl.rcParams['legend.fontsize'] = 12\n",
    "\n",
    "fig, ax = plt.subplots()\n",
    "CS = ax.contourf(x, y, px_values, cmap = 'RdBu', levels = 30) # contourf = filled contour plot\n",
    "ax.set_aspect('equal') # Makes it square\n",
    "ax.set_xlabel('x')\n",
    "ax.set_ylabel('y')\n",
    "\n",
    "fig.colorbar(CS, format = '%.2f') # I set the plot to CS. Now I use it as a variable so it returns the colour meanings to me"
   ]
  },
  {
   "cell_type": "code",
   "execution_count": 25,
   "id": "particular-greece",
   "metadata": {},
   "outputs": [
    {
     "data": {
      "text/plain": [
       "array([-0.045, -0.03 , -0.015,  0.   ,  0.015,  0.03 ,  0.045])"
      ]
     },
     "execution_count": 25,
     "metadata": {},
     "output_type": "execute_result"
    }
   ],
   "source": [
    "ticks = np.linspace(-0.045, 0.045, 7)\n",
    "\n",
    "ticks"
   ]
  },
  {
   "cell_type": "code",
   "execution_count": 26,
   "id": "athletic-stadium",
   "metadata": {},
   "outputs": [
    {
     "data": {
      "text/plain": [
       "<matplotlib.colorbar.Colorbar at 0x12af1ca0>"
      ]
     },
     "execution_count": 26,
     "metadata": {},
     "output_type": "execute_result"
    },
    {
     "data": {
      "image/png": "[encoded data removed]",
      "text/plain": [
       "<Figure size 432x288 with 2 Axes>"
      ]
     },
     "metadata": {
      "needs_background": "light"
     },
     "output_type": "display_data"
    }
   ],
   "source": [
    "mpl.rcParams['font.size'] = 14\n",
    "mpl.rcParams['legend.fontsize'] = 12\n",
    "\n",
    "fig, ax = plt.subplots()\n",
    "CS = ax.contourf(x, y, px_values, cmap = 'RdBu', levels = 30) # contourf = filled contour plot\n",
    "ax.set_aspect('equal') # Makes it square\n",
    "ax.set_xlabel('x')\n",
    "ax.set_ylabel('y')\n",
    "\n",
    "fig.colorbar(CS, format = '%.2f', ticks = ticks) # I set the plot to CS. Now I use it as a variable so it returns the colour meanings to me"
   ]
  }
 ],
 "metadata": {
  "kernelspec": {
   "display_name": "Python 3",
   "language": "python",
   "name": "python3"
  },
  "language_info": {
   "codemirror_mode": {
    "name": "ipython",
    "version": 3
   },
   "file_extension": ".py",
   "mimetype": "text/x-python",
   "name": "python",
   "nbconvert_exporter": "python",
   "pygments_lexer": "ipython3",
   "version": "3.8.3"
  }
 },
 "nbformat": 4,
 "nbformat_minor": 5
}
